{
 "cells": [
  {
   "cell_type": "code",
   "id": "initial_id",
   "metadata": {
    "collapsed": true,
    "ExecuteTime": {
     "end_time": "2024-11-29T10:10:28.113575Z",
     "start_time": "2024-11-29T10:10:21.417424Z"
    }
   },
   "source": [
    "from reprojection import metashape_utils as mu\n",
    "from reprojection import reprojection_database as rdb\n",
    "from reprojection import camera_utils as cu\n",
    "from reprojection import annotations\n",
    "\n",
    "from object_detection import sahi_inference as sahi\n",
    "from object_detection import fifty_one_utils as fou\n",
    "\n",
    "from ipywidgets import widgets\n",
    "\n",
    "import Metashape\n",
    "import pandas as pd\n",
    "import os\n"
   ],
   "outputs": [],
   "execution_count": 1
  },
  {
   "metadata": {},
   "cell_type": "markdown",
   "source": [
    "# Pipeline initialisation\n",
    "\n",
    "Define here your project directory, the path to the metashape project, and the path to the object detection model."
   ],
   "id": "cd23d6b67f3472d1"
  },
  {
   "metadata": {},
   "cell_type": "code",
   "outputs": [],
   "execution_count": null,
   "source": [
    "# Define directories\n",
    "project_dir = r\"D:\\metashape\\victorHD\\project\"\n",
    "project_name = \"VictorHD\"\n",
    "metashape_project_path = r\"D:\\metashape\\victorHD\\VictorHD.psx\"\n",
    "\n",
    "object_detection_model_path = r\"D:\\model_training\\trained_models\\coco_multilabel_yolov11l_datarmor\\train_yolo11l_100e_2000imgsz_datarmor\\weights\\best.pt\""
   ],
   "id": "95c961b9d8501ec6"
  },
  {
   "metadata": {
    "ExecuteTime": {
     "end_time": "2024-11-29T10:10:28.339353Z",
     "start_time": "2024-11-29T10:10:28.113575Z"
    }
   },
   "cell_type": "code",
   "source": [
    "# Create project_dir if it does not exist\n",
    "if not os.path.exists(project_dir):\n",
    "    os.makedirs(project_dir)\n",
    "\n",
    "# Load the metashape project\n",
    "doc = Metashape.Document()\n",
    "doc.open(metashape_project_path)\n",
    "\n",
    "global chunk\n",
    "\n",
    "def handle_dd_change(change):\n",
    "    global chunk\n",
    "    for c in doc.chunks:\n",
    "        if c.label == change.new:\n",
    "            chunk = c\n",
    "            break\n",
    "\n",
    "if len(doc.chunks) == 1:\n",
    "    chunk = doc.chunk\n",
    "else:\n",
    "    print(\"More than one chunk found, select one\")\n",
    "    dd = widgets.Dropdown(\n",
    "        options=[c.label for c in doc.chunks],\n",
    "        value=doc.chunks[0].label,\n",
    "        description='Chunk label:',\n",
    "        disabled=False,\n",
    "    )\n",
    "    dd.observe(handle_dd_change, names='value')\n",
    "    display(dd)"
   ],
   "id": "ae55d3574540195e",
   "outputs": [],
   "execution_count": 2
  },
  {
   "metadata": {},
   "cell_type": "markdown",
   "source": [
    "\n",
    "\n",
    "## 1. Get the overlapping images from the model"
   ],
   "id": "42052be029c3a3e2"
  },
  {
   "metadata": {},
   "cell_type": "code",
   "outputs": [],
   "execution_count": null,
   "source": [
    "export_dir  = os.path.join(project_dir, \"overlapping_images\")\n",
    "if not os.path.exists(export_dir):\n",
    "    os.makedirs(export_dir)\n",
    "\n",
    "temp_chunk = mu.get_overlapping_images(chunk, export_dir)\n",
    "doc.remove([temp_chunk])\n"
   ],
   "id": "6dbbaa6746b3ed49"
  },
  {
   "metadata": {},
   "cell_type": "markdown",
   "source": "## 2. Object detection",
   "id": "38d1bddb173f8ac4"
  },
  {
   "metadata": {},
   "cell_type": "code",
   "outputs": [],
   "execution_count": null,
   "source": [
    "dataset = fou.import_image_directory(export_dir, \"overlapping_image_dataset\")\n",
    "\n",
    "dataset_inf = sahi.sahi_inference(dataset, object_detection_model_path)\n",
    "\n",
    "inference_report = fou.fo_to_csv(dataset_inf)\n",
    "inference_report_path = os.path.join(project_dir, \"inference_report.csv\")\n",
    "pd.DataFrame(inference_report).to_csv(inference_report_path, index = False)"
   ],
   "id": "9eaefe1a6b645968"
  },
  {
   "metadata": {},
   "cell_type": "markdown",
   "source": [
    "## 3. Reprojection\n",
    "\n",
    "First we create a reprojection database, were all the reprojection will be stored, alongside information on the annotation and the camera. This allows for a fast and easy access to the data."
   ],
   "id": "bf3baea8525c4792"
  },
  {
   "metadata": {},
   "cell_type": "code",
   "outputs": [],
   "execution_count": null,
   "source": [
    "db_dir = os.path.join(project_dir, f\"reprojection_{project_name}\")\n",
    "if not os.path.exists(db_dir):\n",
    "    os.makedirs(db_dir)\n",
    "\n",
    "cameras_reprojectors = cu.chunk_to_camera_reprojector(chunk, db_dir)  ## Get cameras from chunk and create a camera reprojector object for each\n",
    "\n",
    "create_db = True #  If crash, set to False and run again\n",
    "if create_db:\n",
    "    print(\"Creating DB and adding annotations and reprojections\")\n",
    "    session = annotations.inference_report_to_reprojection_database(db_dir, inference_report_path, cameras_reprojectors)\n",
    "\n",
    "else:\n",
    "    print(\"Getting DB from existing\")\n",
    "    session, path = rdb.open_reprojection_database_session(db_dir, False)\n"
   ],
   "id": "61886fee2865b3cf"
  },
  {
   "metadata": {},
   "cell_type": "markdown",
   "source": "Then, we can filter duplicates and convert the annotations to individuals",
   "id": "4bf529e2910db7bb"
  },
  {
   "metadata": {},
   "cell_type": "code",
   "outputs": [],
   "execution_count": null,
   "source": "session = annotations.annotations_to_individuals(session, cameras_reprojectors, db_dir)",
   "id": "6b5c3ae168f42940"
  },
  {
   "metadata": {},
   "cell_type": "markdown",
   "source": "The annotations are then plotted onto the metashape project",
   "id": "af4dae9daa8d15d0"
  },
  {
   "metadata": {},
   "cell_type": "code",
   "outputs": [],
   "execution_count": null,
   "source": [
    "mu.plot_reprojection_db(session, chunk, project_name, db_dir)\n",
    "\n",
    "doc.save()\n"
   ],
   "id": "ba06364a30026ac4"
  }
 ],
 "metadata": {
  "kernelspec": {
   "display_name": "Python 3",
   "language": "python",
   "name": "python3"
  },
  "language_info": {
   "codemirror_mode": {
    "name": "ipython",
    "version": 2
   },
   "file_extension": ".py",
   "mimetype": "text/x-python",
   "name": "python",
   "nbconvert_exporter": "python",
   "pygments_lexer": "ipython2",
   "version": "2.7.6"
  }
 },
 "nbformat": 4,
 "nbformat_minor": 5
}

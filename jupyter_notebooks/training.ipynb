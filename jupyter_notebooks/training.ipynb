{
 "cells": [
  {
   "cell_type": "code",
   "id": "73b645eb2aa3b7fb",
   "metadata": {
    "ExecuteTime": {
     "end_time": "2025-02-24T15:59:44.796759Z",
     "start_time": "2025-02-24T15:59:44.782044Z"
    }
   },
   "source": [
    "from object_detection.fifty_one_utils import import_image_csv_report, import_image_directory, get_classes\n",
    "from fiftyone import ViewField as F\n",
    "from object_detection.training import training_pipeline"
   ],
   "outputs": [],
   "execution_count": 3
  },
  {
   "metadata": {
    "ExecuteTime": {
     "end_time": "2025-02-24T15:59:46.148426Z",
     "start_time": "2025-02-24T15:59:46.136249Z"
    }
   },
   "cell_type": "code",
   "source": [
    "report_path = r\"D:\\tests\\model_unbalanced\\334-deep-learning-coral-garden-pl814-odis.csv\"\n",
    "image_dir = r\"Z:\\images\\chereef_2022\\pl814_ODIS\"\n",
    "dataset_name = \"coral_garden_anemones\"\n",
    "\n",
    "scenarios = [{\n",
    "\"weighted_data_loader\" : True,\n",
    "\"tiled_image_splitter\" : True,\n",
    "\"cross_validation\" : False,\n",
    "\"hyperparameter_tuning\": False,\n",
    "\n",
    "\"project_dir\" : r\"D:\\tests\\model_unbalanced\\project_merged\",\n",
    "\"model_path\" : r\"D:\\model_training\\untrained_models\\yolov8m.pt\",\n",
    "\"project_name\" : \"grouped_anemones\",\n",
    "\"mapping\" : {\n",
    "    \"SM56 Halcampoides msp1\": \"Anemones and anemone-like\",\n",
    "    \"SM92 Actiniaria msp1\": \"Anemones and anemone-like\",\n",
    "    \"SM60 Actiniaria msp41\": \"Anemones and anemone-like\",\n",
    "            },\n",
    "\"training_config\":{\n",
    "    \"imgsz\" : 1024,\n",
    "    \"batch\" : 0.95,\n",
    "    \"epochs\" : 20\n",
    "}\n",
    "},\n",
    "{\n",
    "\"weighted_data_loader\" : True,\n",
    "\"tiled_image_splitter\" : True,\n",
    "\"cross_validation\" : False,\n",
    "\"hyperparameter_tuning\": False,\n",
    "\n",
    "\"project_dir\" : r\"D:\\tests\\model_unbalanced\\project_split\",\n",
    "\"model_path\" : r\"D:\\model_training\\untrained_models\\yolov8m.pt\",\n",
    "\"project_name\" : \"distinct_anemones\",\n",
    "\"mapping\" : {},\n",
    "\"training_config\":{\n",
    "    \"imgsz\" : 1024,\n",
    "    \"batch\" : 0.95,\n",
    "    \"epochs\" : 20\n",
    "}\n",
    "}\n",
    "]"
   ],
   "id": "7a3760ecbcbb6b6f",
   "outputs": [],
   "execution_count": 4
  },
  {
   "metadata": {
    "ExecuteTime": {
     "end_time": "2025-02-24T16:01:25.579608Z",
     "start_time": "2025-02-24T16:00:01.273638Z"
    }
   },
   "cell_type": "code",
   "source": [
    "samples = import_image_csv_report(report_path, image_dir)\n",
    "dataset = import_image_directory(image_dir,dataset_name)\n",
    "dataset.add_samples(samples)\n",
    "dataset.default_classes = get_classes(dataset)\n",
    "dataset = dataset.match(F(\"detections.detections\").length() != 0)"
   ],
   "id": "880c7de89eecedc1",
   "outputs": [
    {
     "name": "stderr",
     "output_type": "stream",
     "text": [
      "100%|██████████| 613/613 [01:12<00:00,  8.41it/s]\n"
     ]
    },
    {
     "name": "stdout",
     "output_type": "stream",
     "text": [
      " 100% |█████████████████| 612/612 [77.9ms elapsed, 0s remaining, 7.9K samples/s]   \n",
      " 100% |█████████████████| 348/348 [808.7ms elapsed, 0s remaining, 430.3 samples/s]      \n"
     ]
    }
   ],
   "execution_count": 5
  },
  {
   "metadata": {
    "ExecuteTime": {
     "end_time": "2025-02-24T16:09:14.441615Z",
     "start_time": "2025-02-24T16:01:25.622306Z"
    }
   },
   "cell_type": "code",
   "source": [
    "results = []\n",
    "for scenario in scenarios:\n",
    "    results.append(training_pipeline(dataset, **scenario))"
   ],
   "id": "ce71ad288b23b2d1",
   "outputs": [
    {
     "name": "stderr",
     "output_type": "stream",
     "text": [
      "100%|██████████| 348/348 [07:41<00:00,  1.33s/it]"
     ]
    },
    {
     "name": "stdout",
     "output_type": "stream",
     "text": [
      "   0% ||--------------|    1/1198 [14.9ms elapsed, 17.9s remaining, 67.0 samples/s] "
     ]
    },
    {
     "name": "stderr",
     "output_type": "stream",
     "text": [
      "\n"
     ]
    },
    {
     "name": "stdout",
     "output_type": "stream",
     "text": [
      " 100% |███████████████| 1198/1198 [1.1s elapsed, 0s remaining, 1.1K samples/s]         \n",
      "Directory 'D:\\tests\\model_unbalanced\\project_merged\\yolo_training_dataset' already exists; export will be merged with existing files\n",
      " 100% |███████████████| 1078/1078 [6.0s elapsed, 0s remaining, 187.5 samples/s]      \n"
     ]
    },
    {
     "ename": "ValueError",
     "evalue": "Aborting export of YOLOv5 split 'train' because its class list does not match the existing class list in 'D:\\tests\\model_unbalanced\\project_merged\\yolo_training_dataset\\dataset.yaml'.\nIf you are exporting multiple splits, you must provide a common class list via the `classes` argument",
     "output_type": "error",
     "traceback": [
      "\u001B[1;31m---------------------------------------------------------------------------\u001B[0m",
      "\u001B[1;31mValueError\u001B[0m                                Traceback (most recent call last)",
      "Cell \u001B[1;32mIn[6], line 3\u001B[0m\n\u001B[0;32m      1\u001B[0m results \u001B[38;5;241m=\u001B[39m []\n\u001B[0;32m      2\u001B[0m \u001B[38;5;28;01mfor\u001B[39;00m scenario \u001B[38;5;129;01min\u001B[39;00m scenarios:\n\u001B[1;32m----> 3\u001B[0m     results\u001B[38;5;241m.\u001B[39mappend(\u001B[43mtraining_pipeline\u001B[49m\u001B[43m(\u001B[49m\u001B[43mdataset\u001B[49m\u001B[43m,\u001B[49m\u001B[43m \u001B[49m\u001B[38;5;241;43m*\u001B[39;49m\u001B[38;5;241;43m*\u001B[39;49m\u001B[43mscenario\u001B[49m\u001B[43m)\u001B[49m)\n",
      "File \u001B[1;32m~\\ownCloud\\Thèse\\10-Scripts\\reprojection_toolbox\\object_detection\\training.py:40\u001B[0m, in \u001B[0;36mtraining_pipeline\u001B[1;34m(dataset, model_path, project_dir, project_name, mapping, tiled_image_splitter, cross_validation, weighted_data_loader, hyperparameter_tuning, training_config)\u001B[0m\n\u001B[0;32m     38\u001B[0m if cross_validation and not hyperparameter_tuning:\n\u001B[0;32m     39\u001B[0m     ds_yamls = k_fold_cross_validation(ds, training_ds_export_dir)\n\u001B[1;32m---> 40\u001B[0m else:\n\u001B[0;32m     41\u001B[0m     ds_yamls = [export_yoloV5_format(ds, training_ds_export_dir, list(ds.default_classes))]\n\u001B[0;32m     43\u001B[0m if weighted_data_loader:\n",
      "File \u001B[1;32m~\\ownCloud\\Thèse\\10-Scripts\\reprojection_toolbox\\object_detection\\fifty_one_utils.py:250\u001B[0m, in \u001B[0;36mexport_yoloV5_format\u001B[1;34m(dataset, export_dir, classes, label_field, train_split)\u001B[0m\n\u001B[0;32m    248\u001B[0m \u001B[38;5;28;01mfor\u001B[39;00m split \u001B[38;5;129;01min\u001B[39;00m splits:\n\u001B[0;32m    249\u001B[0m     split_view \u001B[38;5;241m=\u001B[39m dataset\u001B[38;5;241m.\u001B[39mmatch_tags(split)\n\u001B[1;32m--> 250\u001B[0m     \u001B[43msplit_view\u001B[49m\u001B[38;5;241;43m.\u001B[39;49m\u001B[43mexport\u001B[49m\u001B[43m(\u001B[49m\n\u001B[0;32m    251\u001B[0m \u001B[43m        \u001B[49m\u001B[43mexport_dir\u001B[49m\u001B[38;5;241;43m=\u001B[39;49m\u001B[43mexport_dir\u001B[49m\u001B[43m,\u001B[49m\n\u001B[0;32m    252\u001B[0m \u001B[43m        \u001B[49m\u001B[43mdataset_type\u001B[49m\u001B[38;5;241;43m=\u001B[39;49m\u001B[43mfo\u001B[49m\u001B[38;5;241;43m.\u001B[39;49m\u001B[43mtypes\u001B[49m\u001B[38;5;241;43m.\u001B[39;49m\u001B[43mYOLOv5Dataset\u001B[49m\u001B[43m,\u001B[49m\n\u001B[0;32m    253\u001B[0m \u001B[43m        \u001B[49m\u001B[43mlabel_field\u001B[49m\u001B[38;5;241;43m=\u001B[39;49m\u001B[43mlabel_field\u001B[49m\u001B[43m,\u001B[49m\n\u001B[0;32m    254\u001B[0m \u001B[43m        \u001B[49m\u001B[43msplit\u001B[49m\u001B[38;5;241;43m=\u001B[39;49m\u001B[43msplit\u001B[49m\u001B[43m,\u001B[49m\n\u001B[0;32m    255\u001B[0m \u001B[43m        \u001B[49m\u001B[43mclasses\u001B[49m\u001B[38;5;241;43m=\u001B[39;49m\u001B[43mclasses\u001B[49m\u001B[43m,\u001B[49m\n\u001B[0;32m    256\u001B[0m \u001B[43m    \u001B[49m\u001B[43m)\u001B[49m\n\u001B[0;32m    257\u001B[0m \u001B[38;5;28;01mreturn\u001B[39;00m os\u001B[38;5;241m.\u001B[39mpath\u001B[38;5;241m.\u001B[39mjoin(export_dir, \u001B[38;5;124m\"\u001B[39m\u001B[38;5;124mdataset.yaml\u001B[39m\u001B[38;5;124m\"\u001B[39m)\n",
      "File \u001B[1;32m~\\AppData\\Local\\mambaforge\\envs\\reprojection_env\\Lib\\site-packages\\fiftyone\\core\\collections.py:8940\u001B[0m, in \u001B[0;36mSampleCollection.export\u001B[1;34m(self, export_dir, dataset_type, data_path, labels_path, export_media, rel_dir, dataset_exporter, label_field, frame_labels_field, overwrite, progress, **kwargs)\u001B[0m\n\u001B[0;32m   8937\u001B[0m     export_dir, _ \u001B[38;5;241m=\u001B[39m etau\u001B[38;5;241m.\u001B[39msplit_archive(archive_path)\n\u001B[0;32m   8939\u001B[0m \u001B[38;5;66;03m# Perform the export\u001B[39;00m\n\u001B[1;32m-> 8940\u001B[0m \u001B[43m_export\u001B[49m\u001B[43m(\u001B[49m\n\u001B[0;32m   8941\u001B[0m \u001B[43m    \u001B[49m\u001B[38;5;28;43mself\u001B[39;49m\u001B[43m,\u001B[49m\n\u001B[0;32m   8942\u001B[0m \u001B[43m    \u001B[49m\u001B[43mexport_dir\u001B[49m\u001B[38;5;241;43m=\u001B[39;49m\u001B[43mexport_dir\u001B[49m\u001B[43m,\u001B[49m\n\u001B[0;32m   8943\u001B[0m \u001B[43m    \u001B[49m\u001B[43mdataset_type\u001B[49m\u001B[38;5;241;43m=\u001B[39;49m\u001B[43mdataset_type\u001B[49m\u001B[43m,\u001B[49m\n\u001B[0;32m   8944\u001B[0m \u001B[43m    \u001B[49m\u001B[43mdata_path\u001B[49m\u001B[38;5;241;43m=\u001B[39;49m\u001B[43mdata_path\u001B[49m\u001B[43m,\u001B[49m\n\u001B[0;32m   8945\u001B[0m \u001B[43m    \u001B[49m\u001B[43mlabels_path\u001B[49m\u001B[38;5;241;43m=\u001B[39;49m\u001B[43mlabels_path\u001B[49m\u001B[43m,\u001B[49m\n\u001B[0;32m   8946\u001B[0m \u001B[43m    \u001B[49m\u001B[43mexport_media\u001B[49m\u001B[38;5;241;43m=\u001B[39;49m\u001B[43mexport_media\u001B[49m\u001B[43m,\u001B[49m\n\u001B[0;32m   8947\u001B[0m \u001B[43m    \u001B[49m\u001B[43mrel_dir\u001B[49m\u001B[38;5;241;43m=\u001B[39;49m\u001B[43mrel_dir\u001B[49m\u001B[43m,\u001B[49m\n\u001B[0;32m   8948\u001B[0m \u001B[43m    \u001B[49m\u001B[43mdataset_exporter\u001B[49m\u001B[38;5;241;43m=\u001B[39;49m\u001B[43mdataset_exporter\u001B[49m\u001B[43m,\u001B[49m\n\u001B[0;32m   8949\u001B[0m \u001B[43m    \u001B[49m\u001B[43mlabel_field\u001B[49m\u001B[38;5;241;43m=\u001B[39;49m\u001B[43mlabel_field\u001B[49m\u001B[43m,\u001B[49m\n\u001B[0;32m   8950\u001B[0m \u001B[43m    \u001B[49m\u001B[43mframe_labels_field\u001B[49m\u001B[38;5;241;43m=\u001B[39;49m\u001B[43mframe_labels_field\u001B[49m\u001B[43m,\u001B[49m\n\u001B[0;32m   8951\u001B[0m \u001B[43m    \u001B[49m\u001B[43moverwrite\u001B[49m\u001B[38;5;241;43m=\u001B[39;49m\u001B[43moverwrite\u001B[49m\u001B[43m,\u001B[49m\n\u001B[0;32m   8952\u001B[0m \u001B[43m    \u001B[49m\u001B[43mprogress\u001B[49m\u001B[38;5;241;43m=\u001B[39;49m\u001B[43mprogress\u001B[49m\u001B[43m,\u001B[49m\n\u001B[0;32m   8953\u001B[0m \u001B[43m    \u001B[49m\u001B[38;5;241;43m*\u001B[39;49m\u001B[38;5;241;43m*\u001B[39;49m\u001B[43mkwargs\u001B[49m\u001B[43m,\u001B[49m\n\u001B[0;32m   8954\u001B[0m \u001B[43m\u001B[49m\u001B[43m)\u001B[49m\n\u001B[0;32m   8956\u001B[0m \u001B[38;5;66;03m# Make archive, if requested\u001B[39;00m\n\u001B[0;32m   8957\u001B[0m \u001B[38;5;28;01mif\u001B[39;00m archive_path \u001B[38;5;129;01mis\u001B[39;00m \u001B[38;5;129;01mnot\u001B[39;00m \u001B[38;5;28;01mNone\u001B[39;00m:\n",
      "File \u001B[1;32m~\\AppData\\Local\\mambaforge\\envs\\reprojection_env\\Lib\\site-packages\\fiftyone\\core\\collections.py:11611\u001B[0m, in \u001B[0;36m_export\u001B[1;34m(sample_collection, export_dir, dataset_type, data_path, labels_path, export_media, rel_dir, dataset_exporter, label_field, frame_labels_field, overwrite, progress, **kwargs)\u001B[0m\n\u001B[0;32m  11605\u001B[0m         \u001B[38;5;28;01mraise\u001B[39;00m \u001B[38;5;167;01mValueError\u001B[39;00m(\n\u001B[0;32m  11606\u001B[0m             \u001B[38;5;124m\"\u001B[39m\u001B[38;5;124mUnable to locate compatible sample or frame-level \u001B[39m\u001B[38;5;124m\"\u001B[39m\n\u001B[0;32m  11607\u001B[0m             \u001B[38;5;124m\"\u001B[39m\u001B[38;5;124mfield(s) to export\u001B[39m\u001B[38;5;124m\"\u001B[39m\n\u001B[0;32m  11608\u001B[0m         )\n\u001B[0;32m  11610\u001B[0m \u001B[38;5;66;03m# Perform the export\u001B[39;00m\n\u001B[1;32m> 11611\u001B[0m \u001B[43mfoud\u001B[49m\u001B[38;5;241;43m.\u001B[39;49m\u001B[43mexport_samples\u001B[49m\u001B[43m(\u001B[49m\n\u001B[0;32m  11612\u001B[0m \u001B[43m    \u001B[49m\u001B[43msample_collection\u001B[49m\u001B[43m,\u001B[49m\n\u001B[0;32m  11613\u001B[0m \u001B[43m    \u001B[49m\u001B[43mdataset_exporter\u001B[49m\u001B[38;5;241;43m=\u001B[39;49m\u001B[43mdataset_exporter\u001B[49m\u001B[43m,\u001B[49m\n\u001B[0;32m  11614\u001B[0m \u001B[43m    \u001B[49m\u001B[43mlabel_field\u001B[49m\u001B[38;5;241;43m=\u001B[39;49m\u001B[43mlabel_field\u001B[49m\u001B[43m,\u001B[49m\n\u001B[0;32m  11615\u001B[0m \u001B[43m    \u001B[49m\u001B[43mframe_labels_field\u001B[49m\u001B[38;5;241;43m=\u001B[39;49m\u001B[43mframe_labels_field\u001B[49m\u001B[43m,\u001B[49m\n\u001B[0;32m  11616\u001B[0m \u001B[43m    \u001B[49m\u001B[43mprogress\u001B[49m\u001B[38;5;241;43m=\u001B[39;49m\u001B[43mprogress\u001B[49m\u001B[43m,\u001B[49m\n\u001B[0;32m  11617\u001B[0m \u001B[43m    \u001B[49m\u001B[38;5;241;43m*\u001B[39;49m\u001B[38;5;241;43m*\u001B[39;49m\u001B[43mkwargs\u001B[49m\u001B[43m,\u001B[49m\n\u001B[0;32m  11618\u001B[0m \u001B[43m\u001B[49m\u001B[43m)\u001B[49m\n",
      "File \u001B[1;32m~\\AppData\\Local\\mambaforge\\envs\\reprojection_env\\Lib\\site-packages\\fiftyone\\utils\\data\\exporters.py:364\u001B[0m, in \u001B[0;36mexport_samples\u001B[1;34m(samples, export_dir, dataset_type, data_path, labels_path, export_media, rel_dir, dataset_exporter, label_field, frame_labels_field, progress, num_samples, **kwargs)\u001B[0m\n\u001B[0;32m    359\u001B[0m \u001B[38;5;28;01melse\u001B[39;00m:\n\u001B[0;32m    360\u001B[0m     \u001B[38;5;28;01mraise\u001B[39;00m \u001B[38;5;167;01mValueError\u001B[39;00m(\n\u001B[0;32m    361\u001B[0m         \u001B[38;5;124m\"\u001B[39m\u001B[38;5;124mUnsupported DatasetExporter \u001B[39m\u001B[38;5;132;01m%s\u001B[39;00m\u001B[38;5;124m\"\u001B[39m \u001B[38;5;241m%\u001B[39m \u001B[38;5;28mtype\u001B[39m(dataset_exporter)\n\u001B[0;32m    362\u001B[0m     )\n\u001B[1;32m--> 364\u001B[0m \u001B[43mwrite_dataset\u001B[49m\u001B[43m(\u001B[49m\n\u001B[0;32m    365\u001B[0m \u001B[43m    \u001B[49m\u001B[43msamples\u001B[49m\u001B[43m,\u001B[49m\n\u001B[0;32m    366\u001B[0m \u001B[43m    \u001B[49m\u001B[43msample_parser\u001B[49m\u001B[43m,\u001B[49m\n\u001B[0;32m    367\u001B[0m \u001B[43m    \u001B[49m\u001B[43mdataset_exporter\u001B[49m\u001B[43m,\u001B[49m\n\u001B[0;32m    368\u001B[0m \u001B[43m    \u001B[49m\u001B[43msample_collection\u001B[49m\u001B[38;5;241;43m=\u001B[39;49m\u001B[43msample_collection\u001B[49m\u001B[43m,\u001B[49m\n\u001B[0;32m    369\u001B[0m \u001B[43m    \u001B[49m\u001B[43mprogress\u001B[49m\u001B[38;5;241;43m=\u001B[39;49m\u001B[43mprogress\u001B[49m\u001B[43m,\u001B[49m\n\u001B[0;32m    370\u001B[0m \u001B[43m    \u001B[49m\u001B[43mnum_samples\u001B[49m\u001B[38;5;241;43m=\u001B[39;49m\u001B[43mnum_samples\u001B[49m\u001B[43m,\u001B[49m\n\u001B[0;32m    371\u001B[0m \u001B[43m\u001B[49m\u001B[43m)\u001B[49m\n",
      "File \u001B[1;32m~\\AppData\\Local\\mambaforge\\envs\\reprojection_env\\Lib\\site-packages\\fiftyone\\utils\\data\\exporters.py:431\u001B[0m, in \u001B[0;36mwrite_dataset\u001B[1;34m(samples, sample_parser, dataset_exporter, sample_collection, progress, num_samples)\u001B[0m\n\u001B[0;32m    420\u001B[0m     _write_group_dataset(\n\u001B[0;32m    421\u001B[0m         dataset_exporter,\n\u001B[0;32m    422\u001B[0m         samples,\n\u001B[1;32m   (...)\u001B[0m\n\u001B[0;32m    425\u001B[0m         num_samples\u001B[38;5;241m=\u001B[39mnum_samples,\n\u001B[0;32m    426\u001B[0m     )\n\u001B[0;32m    427\u001B[0m \u001B[38;5;28;01melif\u001B[39;00m \u001B[38;5;28misinstance\u001B[39m(\n\u001B[0;32m    428\u001B[0m     dataset_exporter,\n\u001B[0;32m    429\u001B[0m     (UnlabeledImageDatasetExporter, LabeledImageDatasetExporter),\n\u001B[0;32m    430\u001B[0m ):\n\u001B[1;32m--> 431\u001B[0m     \u001B[43m_write_image_dataset\u001B[49m\u001B[43m(\u001B[49m\n\u001B[0;32m    432\u001B[0m \u001B[43m        \u001B[49m\u001B[43mdataset_exporter\u001B[49m\u001B[43m,\u001B[49m\n\u001B[0;32m    433\u001B[0m \u001B[43m        \u001B[49m\u001B[43msamples\u001B[49m\u001B[43m,\u001B[49m\n\u001B[0;32m    434\u001B[0m \u001B[43m        \u001B[49m\u001B[43msample_parser\u001B[49m\u001B[43m,\u001B[49m\n\u001B[0;32m    435\u001B[0m \u001B[43m        \u001B[49m\u001B[43msample_collection\u001B[49m\u001B[38;5;241;43m=\u001B[39;49m\u001B[43msample_collection\u001B[49m\u001B[43m,\u001B[49m\n\u001B[0;32m    436\u001B[0m \u001B[43m        \u001B[49m\u001B[43mprogress\u001B[49m\u001B[38;5;241;43m=\u001B[39;49m\u001B[43mprogress\u001B[49m\u001B[43m,\u001B[49m\n\u001B[0;32m    437\u001B[0m \u001B[43m        \u001B[49m\u001B[43mnum_samples\u001B[49m\u001B[38;5;241;43m=\u001B[39;49m\u001B[43mnum_samples\u001B[49m\u001B[43m,\u001B[49m\n\u001B[0;32m    438\u001B[0m \u001B[43m    \u001B[49m\u001B[43m)\u001B[49m\n\u001B[0;32m    439\u001B[0m \u001B[38;5;28;01melif\u001B[39;00m \u001B[38;5;28misinstance\u001B[39m(\n\u001B[0;32m    440\u001B[0m     dataset_exporter,\n\u001B[0;32m    441\u001B[0m     (UnlabeledVideoDatasetExporter, LabeledVideoDatasetExporter),\n\u001B[0;32m    442\u001B[0m ):\n\u001B[0;32m    443\u001B[0m     _write_video_dataset(\n\u001B[0;32m    444\u001B[0m         dataset_exporter,\n\u001B[0;32m    445\u001B[0m         samples,\n\u001B[1;32m   (...)\u001B[0m\n\u001B[0;32m    449\u001B[0m         num_samples\u001B[38;5;241m=\u001B[39mnum_samples,\n\u001B[0;32m    450\u001B[0m     )\n",
      "File \u001B[1;32m~\\AppData\\Local\\mambaforge\\envs\\reprojection_env\\Lib\\site-packages\\fiftyone\\utils\\data\\exporters.py:895\u001B[0m, in \u001B[0;36m_write_image_dataset\u001B[1;34m(dataset_exporter, samples, sample_parser, sample_collection, progress, num_samples)\u001B[0m\n\u001B[0;32m    892\u001B[0m labeled_images \u001B[38;5;241m=\u001B[39m \u001B[38;5;28misinstance\u001B[39m(dataset_exporter, LabeledImageDatasetExporter)\n\u001B[0;32m    894\u001B[0m \u001B[38;5;28;01mwith\u001B[39;00m fou\u001B[38;5;241m.\u001B[39mProgressBar(total\u001B[38;5;241m=\u001B[39mnum_samples, progress\u001B[38;5;241m=\u001B[39mprogress) \u001B[38;5;28;01mas\u001B[39;00m pb:\n\u001B[1;32m--> 895\u001B[0m \u001B[43m    \u001B[49m\u001B[38;5;28;43;01mwith\u001B[39;49;00m\u001B[43m \u001B[49m\u001B[43mdataset_exporter\u001B[49m\u001B[43m:\u001B[49m\n\u001B[0;32m    896\u001B[0m \u001B[43m        \u001B[49m\u001B[38;5;28;43;01mif\u001B[39;49;00m\u001B[43m \u001B[49m\u001B[43msample_collection\u001B[49m\u001B[43m \u001B[49m\u001B[38;5;129;43;01mis\u001B[39;49;00m\u001B[43m \u001B[49m\u001B[38;5;129;43;01mnot\u001B[39;49;00m\u001B[43m \u001B[49m\u001B[38;5;28;43;01mNone\u001B[39;49;00m\u001B[43m:\u001B[49m\n\u001B[0;32m    897\u001B[0m \u001B[43m            \u001B[49m\u001B[43mdataset_exporter\u001B[49m\u001B[38;5;241;43m.\u001B[39;49m\u001B[43mlog_collection\u001B[49m\u001B[43m(\u001B[49m\u001B[43msample_collection\u001B[49m\u001B[43m)\u001B[49m\n",
      "File \u001B[1;32m~\\AppData\\Local\\mambaforge\\envs\\reprojection_env\\Lib\\site-packages\\fiftyone\\utils\\data\\exporters.py:1396\u001B[0m, in \u001B[0;36mDatasetExporter.__exit__\u001B[1;34m(self, *args)\u001B[0m\n\u001B[0;32m   1395\u001B[0m \u001B[38;5;28;01mdef\u001B[39;00m \u001B[38;5;21m__exit__\u001B[39m(\u001B[38;5;28mself\u001B[39m, \u001B[38;5;241m*\u001B[39margs):\n\u001B[1;32m-> 1396\u001B[0m     \u001B[38;5;28;43mself\u001B[39;49m\u001B[38;5;241;43m.\u001B[39;49m\u001B[43mclose\u001B[49m\u001B[43m(\u001B[49m\u001B[38;5;241;43m*\u001B[39;49m\u001B[43margs\u001B[49m\u001B[43m)\u001B[49m\n",
      "File \u001B[1;32m~\\AppData\\Local\\mambaforge\\envs\\reprojection_env\\Lib\\site-packages\\fiftyone\\utils\\yolo.py:964\u001B[0m, in \u001B[0;36mYOLOv5DatasetExporter.close\u001B[1;34m(self, *args)\u001B[0m\n\u001B[0;32m    961\u001B[0m     classes \u001B[38;5;241m=\u001B[39m \u001B[38;5;28mlist\u001B[39m(\u001B[38;5;28mself\u001B[39m\u001B[38;5;241m.\u001B[39mclasses)\n\u001B[0;32m    963\u001B[0m \u001B[38;5;28;01mif\u001B[39;00m \u001B[38;5;124m\"\u001B[39m\u001B[38;5;124mnames\u001B[39m\u001B[38;5;124m\"\u001B[39m \u001B[38;5;129;01min\u001B[39;00m d \u001B[38;5;129;01mand\u001B[39;00m classes \u001B[38;5;241m!=\u001B[39m _parse_yolo_classes(d[\u001B[38;5;124m\"\u001B[39m\u001B[38;5;124mnames\u001B[39m\u001B[38;5;124m\"\u001B[39m]):\n\u001B[1;32m--> 964\u001B[0m     \u001B[38;5;28;01mraise\u001B[39;00m \u001B[38;5;167;01mValueError\u001B[39;00m(\n\u001B[0;32m    965\u001B[0m         \u001B[38;5;124m\"\u001B[39m\u001B[38;5;124mAborting export of YOLOv5 split \u001B[39m\u001B[38;5;124m'\u001B[39m\u001B[38;5;132;01m%s\u001B[39;00m\u001B[38;5;124m'\u001B[39m\u001B[38;5;124m because its class list \u001B[39m\u001B[38;5;124m\"\u001B[39m\n\u001B[0;32m    966\u001B[0m         \u001B[38;5;124m\"\u001B[39m\u001B[38;5;124mdoes not match the existing class list in \u001B[39m\u001B[38;5;124m'\u001B[39m\u001B[38;5;132;01m%s\u001B[39;00m\u001B[38;5;124m'\u001B[39m\u001B[38;5;124m.\u001B[39m\u001B[38;5;130;01m\\n\u001B[39;00m\u001B[38;5;124mIf you are \u001B[39m\u001B[38;5;124m\"\u001B[39m\n\u001B[0;32m    967\u001B[0m         \u001B[38;5;124m\"\u001B[39m\u001B[38;5;124mexporting multiple splits, you must provide a common class \u001B[39m\u001B[38;5;124m\"\u001B[39m\n\u001B[0;32m    968\u001B[0m         \u001B[38;5;124m\"\u001B[39m\u001B[38;5;124mlist via the `classes` argument\u001B[39m\u001B[38;5;124m\"\u001B[39m\n\u001B[0;32m    969\u001B[0m         \u001B[38;5;241m%\u001B[39m (\u001B[38;5;28mself\u001B[39m\u001B[38;5;241m.\u001B[39msplit, \u001B[38;5;28mself\u001B[39m\u001B[38;5;241m.\u001B[39myaml_path)\n\u001B[0;32m    970\u001B[0m     )\n\u001B[0;32m    972\u001B[0m \u001B[38;5;28;01mif\u001B[39;00m \u001B[38;5;28mself\u001B[39m\u001B[38;5;241m.\u001B[39minclude_path:\n\u001B[0;32m    973\u001B[0m     d[\u001B[38;5;124m\"\u001B[39m\u001B[38;5;124mpath\u001B[39m\u001B[38;5;124m\"\u001B[39m] \u001B[38;5;241m=\u001B[39m os\u001B[38;5;241m.\u001B[39mpath\u001B[38;5;241m.\u001B[39mdirname(\u001B[38;5;28mself\u001B[39m\u001B[38;5;241m.\u001B[39myaml_path)\n",
      "\u001B[1;31mValueError\u001B[0m: Aborting export of YOLOv5 split 'train' because its class list does not match the existing class list in 'D:\\tests\\model_unbalanced\\project_merged\\yolo_training_dataset\\dataset.yaml'.\nIf you are exporting multiple splits, you must provide a common class list via the `classes` argument"
     ]
    }
   ],
   "execution_count": 6
  }
 ],
 "metadata": {
  "kernelspec": {
   "display_name": "Python 3",
   "language": "python",
   "name": "python3"
  },
  "language_info": {
   "codemirror_mode": {
    "name": "ipython",
    "version": 2
   },
   "file_extension": ".py",
   "mimetype": "text/x-python",
   "name": "python",
   "nbconvert_exporter": "python",
   "pygments_lexer": "ipython2",
   "version": "2.7.6"
  }
 },
 "nbformat": 4,
 "nbformat_minor": 5
}

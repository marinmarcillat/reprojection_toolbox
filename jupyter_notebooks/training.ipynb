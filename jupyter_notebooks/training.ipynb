{
 "cells": [
  {
   "cell_type": "code",
   "id": "73b645eb2aa3b7fb",
   "metadata": {
    "ExecuteTime": {
     "end_time": "2025-02-24T14:19:53.070604Z",
     "start_time": "2025-02-24T14:19:38.904456Z"
    }
   },
   "source": [
    "from object_detection.fifty_one_utils import import_image_csv_report, import_image_directory, get_classes, export_yoloV5_format\n",
    "from fiftyone import ViewField as F\n",
    "from object_detection.training import training_pipeline"
   ],
   "outputs": [],
   "execution_count": 1
  },
  {
   "metadata": {
    "ExecuteTime": {
     "end_time": "2025-02-24T14:22:00.283209Z",
     "start_time": "2025-02-24T14:22:00.267058Z"
    }
   },
   "cell_type": "code",
   "source": [
    "report_path = r\"D:\\tests\\model_unbalanced\\334-deep-learning-coral-garden-pl814-odis.csv\"\n",
    "image_dir = r\"Z:\\images\\chereef_2022\\pl814_ODIS\"\n",
    "dataset_name = \"coral_garden\"\n",
    "\n",
    "scenarios = [{\n",
    "\"weighted_data_loader\" : True,\n",
    "\"tiled_image_splitter\" : True,\n",
    "\"cross_validation\" : False,\n",
    "\"hyperparameter_tuning\": False,\n",
    "\n",
    "\"training_ds_export_dir\" : r\"D:\\tests\\model_unbalanced\\data\",\n",
    "\"project_dir\" : r\"D:\\tests\\model_unbalanced\\projects\",\n",
    "\"temp_dir\" : r\"D:\\tests\\model_unbalanced\\temp\",\n",
    "\"model_path\" : r\"D:\\model_training\\untrained_models\\yolov8m.pt\",\n",
    "\"project_name\" : \"test_unbalanced\",\n",
    "\"mapping\" : {\n",
    "    \"SM56 Halcampoides msp1\": \"Anemones and anemone-like\",\n",
    "    \"SM92 Actiniaria msp1\": \"Anemones and anemone-like\",\n",
    "    \"SM60 Actiniaria msp41\": \"Anemones and anemone-like\",\n",
    "            },\n",
    "\"imgsz\" : 1024,\n",
    "\"batch\" : 0.95,\n",
    "\"epochs\" : 20\n",
    "}]"
   ],
   "id": "7a3760ecbcbb6b6f",
   "outputs": [],
   "execution_count": 7
  },
  {
   "metadata": {
    "ExecuteTime": {
     "end_time": "2025-02-24T14:23:35.101915Z",
     "start_time": "2025-02-24T14:22:02.468210Z"
    }
   },
   "cell_type": "code",
   "source": [
    "samples = import_image_csv_report(report_path, image_dir)\n",
    "dataset = import_image_directory(image_dir,dataset_name)\n",
    "dataset.add_samples(samples)\n",
    "dataset.default_classes = get_classes(dataset)\n",
    "dataset = dataset.match(F(\"detections.detections\").length() != 0)"
   ],
   "id": "880c7de89eecedc1",
   "outputs": [
    {
     "name": "stderr",
     "output_type": "stream",
     "text": [
      "100%|██████████| 613/613 [01:21<00:00,  7.49it/s]\n"
     ]
    },
    {
     "name": "stdout",
     "output_type": "stream",
     "text": [
      " 100% |█████████████████| 612/612 [60.4ms elapsed, 0s remaining, 10.1K samples/s]  \n",
      " 100% |█████████████████| 348/348 [629.2ms elapsed, 0s remaining, 553.1 samples/s]      \n"
     ]
    }
   ],
   "execution_count": 8
  },
  {
   "metadata": {},
   "cell_type": "code",
   "outputs": [],
   "execution_count": null,
   "source": [
    "for scenario in scenarios:\n",
    "    model_path = scenario.get(\"model_path\")\n",
    "    project_dir = scenario.get(\"project_dir\")\n",
    "    results = training_pipeline(dataset, model_path, project_dir, **scenario)"
   ],
   "id": "ce71ad288b23b2d1"
  }
 ],
 "metadata": {
  "kernelspec": {
   "display_name": "Python 3",
   "language": "python",
   "name": "python3"
  },
  "language_info": {
   "codemirror_mode": {
    "name": "ipython",
    "version": 2
   },
   "file_extension": ".py",
   "mimetype": "text/x-python",
   "name": "python",
   "nbconvert_exporter": "python",
   "pygments_lexer": "ipython2",
   "version": "2.7.6"
  }
 },
 "nbformat": 4,
 "nbformat_minor": 5
}

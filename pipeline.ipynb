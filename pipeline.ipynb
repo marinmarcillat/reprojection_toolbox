{
 "cells": [
  {
   "cell_type": "code",
   "id": "initial_id",
   "metadata": {
    "collapsed": true,
    "ExecuteTime": {
     "end_time": "2024-11-27T15:20:28.684901Z",
     "start_time": "2024-11-27T15:20:28.667114Z"
    }
   },
   "source": [
    "import ipywidgets as widgets\n",
    "from ipyfilechooser import FileChooser\n",
    "\n",
    "\n",
    "\n",
    "\n"
   ],
   "outputs": [],
   "execution_count": 6
  },
  {
   "metadata": {
    "ExecuteTime": {
     "end_time": "2024-11-27T15:21:17.302095Z",
     "start_time": "2024-11-27T15:21:12.397523Z"
    }
   },
   "cell_type": "code",
   "source": [
    "fc = FileChooser()\n",
    "fc.show_only_dirs = True\n"
   ],
   "id": "cc6c91d876dfc7bb",
   "outputs": [],
   "execution_count": 8
  },
  {
   "metadata": {
    "ExecuteTime": {
     "end_time": "2024-11-27T15:21:19.574412Z",
     "start_time": "2024-11-27T15:21:19.570507Z"
    }
   },
   "cell_type": "code",
   "source": "display(fc)",
   "id": "3f0ead1fea61014e",
   "outputs": [
    {
     "data": {
      "text/plain": [
       "FileChooser(path='C:\\Users\\mmarcill\\ownCloud\\Thèse\\10-Scripts\\yolo_image', filename='', title='', show_hidden=…"
      ],
      "application/vnd.jupyter.widget-view+json": {
       "version_major": 2,
       "version_minor": 0,
       "model_id": "fafeb4daed2946ce9c60bb5348cf5a5c"
      }
     },
     "metadata": {},
     "output_type": "display_data"
    }
   ],
   "execution_count": 9
  },
  {
   "metadata": {
    "ExecuteTime": {
     "end_time": "2024-11-27T15:22:02.605739Z",
     "start_time": "2024-11-27T15:22:02.599721Z"
    }
   },
   "cell_type": "code",
   "source": "fc.selected_path",
   "id": "7ef2ecaec85871fa",
   "outputs": [
    {
     "data": {
      "text/plain": [
       "'C:\\\\Users\\\\mmarcill\\\\ownCloud\\\\Thèse\\\\10-Scripts\\\\yolo_image\\\\Biigle'"
      ]
     },
     "execution_count": 10,
     "metadata": {},
     "output_type": "execute_result"
    }
   ],
   "execution_count": 10
  }
 ],
 "metadata": {
  "kernelspec": {
   "display_name": "Python 3",
   "language": "python",
   "name": "python3"
  },
  "language_info": {
   "codemirror_mode": {
    "name": "ipython",
    "version": 2
   },
   "file_extension": ".py",
   "mimetype": "text/x-python",
   "name": "python",
   "nbconvert_exporter": "python",
   "pygments_lexer": "ipython2",
   "version": "2.7.6"
  }
 },
 "nbformat": 4,
 "nbformat_minor": 5
}
